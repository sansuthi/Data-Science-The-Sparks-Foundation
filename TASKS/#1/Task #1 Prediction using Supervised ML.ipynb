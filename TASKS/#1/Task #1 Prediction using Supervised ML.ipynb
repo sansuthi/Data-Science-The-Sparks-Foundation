{
 "cells": [
  {
   "cell_type": "markdown",
   "metadata": {
    "papermill": {
     "duration": 0.019243,
     "end_time": "2021-06-06T13:14:02.831834",
     "exception": false,
     "start_time": "2021-06-06T13:14:02.812591",
     "status": "completed"
    },
    "tags": []
   },
   "source": [
    "# Task #1 Prediction using Supervised ML\n",
    "\n",
    "### Author : SANDHYA S\n",
    "\n",
    "### Problem Statement: \n",
    "#### * Predict the percentage of a student based on the no. of study hours\n",
    "#### * What will be the predicted score if a student studies for 9.25 hrs/day?"
   ]
  },
  {
   "cell_type": "markdown",
   "metadata": {
    "papermill": {
     "duration": 0.017531,
     "end_time": "2021-06-06T13:14:02.867609",
     "exception": false,
     "start_time": "2021-06-06T13:14:02.850078",
     "status": "completed"
    },
    "tags": []
   },
   "source": [
    "## Importing Libraries"
   ]
  },
  {
   "cell_type": "code",
   "execution_count": 1,
   "metadata": {
    "_cell_guid": "b1076dfc-b9ad-4769-8c92-a6c4dae69d19",
    "_uuid": "8f2839f25d086af736a60e9eeb907d3b93b6e0e5",
    "execution": {
     "iopub.execute_input": "2021-06-06T13:14:02.908562Z",
     "iopub.status.busy": "2021-06-06T13:14:02.907382Z",
     "iopub.status.idle": "2021-06-06T13:14:02.913051Z",
     "shell.execute_reply": "2021-06-06T13:14:02.913607Z",
     "shell.execute_reply.started": "2021-06-06T13:12:52.484141Z"
    },
    "papermill": {
     "duration": 0.027706,
     "end_time": "2021-06-06T13:14:02.913938",
     "exception": false,
     "start_time": "2021-06-06T13:14:02.886232",
     "status": "completed"
    },
    "tags": []
   },
   "outputs": [],
   "source": [
    "import numpy as np\n",
    "import pandas as pd\n",
    "import matplotlib.pyplot as plt\n",
    "import warnings\n",
    "warnings.filterwarnings('ignore')\n",
    "plt.style.use('ggplot')"
   ]
  },
  {
   "cell_type": "markdown",
   "metadata": {
    "papermill": {
     "duration": 0.017646,
     "end_time": "2021-06-06T13:14:02.950157",
     "exception": false,
     "start_time": "2021-06-06T13:14:02.932511",
     "status": "completed"
    },
    "tags": []
   },
   "source": [
    "## Loading Data"
   ]
  },
  {
   "cell_type": "code",
   "execution_count": 2,
   "metadata": {
    "execution": {
     "iopub.execute_input": "2021-06-06T13:14:02.991395Z",
     "iopub.status.busy": "2021-06-06T13:14:02.990721Z",
     "iopub.status.idle": "2021-06-06T13:14:03.037802Z",
     "shell.execute_reply": "2021-06-06T13:14:03.038311Z",
     "shell.execute_reply.started": "2021-06-06T13:12:52.495679Z"
    },
    "papermill": {
     "duration": 0.069691,
     "end_time": "2021-06-06T13:14:03.038527",
     "exception": false,
     "start_time": "2021-06-06T13:14:02.968836",
     "status": "completed"
    },
    "tags": []
   },
   "outputs": [
    {
     "data": {
      "text/html": [
       "<div>\n",
       "<style scoped>\n",
       "    .dataframe tbody tr th:only-of-type {\n",
       "        vertical-align: middle;\n",
       "    }\n",
       "\n",
       "    .dataframe tbody tr th {\n",
       "        vertical-align: top;\n",
       "    }\n",
       "\n",
       "    .dataframe thead th {\n",
       "        text-align: right;\n",
       "    }\n",
       "</style>\n",
       "<table border=\"1\" class=\"dataframe\">\n",
       "  <thead>\n",
       "    <tr style=\"text-align: right;\">\n",
       "      <th></th>\n",
       "      <th>Hours</th>\n",
       "      <th>Scores</th>\n",
       "    </tr>\n",
       "  </thead>\n",
       "  <tbody>\n",
       "    <tr>\n",
       "      <th>0</th>\n",
       "      <td>2.5</td>\n",
       "      <td>21</td>\n",
       "    </tr>\n",
       "    <tr>\n",
       "      <th>1</th>\n",
       "      <td>5.1</td>\n",
       "      <td>47</td>\n",
       "    </tr>\n",
       "    <tr>\n",
       "      <th>2</th>\n",
       "      <td>3.2</td>\n",
       "      <td>27</td>\n",
       "    </tr>\n",
       "    <tr>\n",
       "      <th>3</th>\n",
       "      <td>8.5</td>\n",
       "      <td>75</td>\n",
       "    </tr>\n",
       "    <tr>\n",
       "      <th>4</th>\n",
       "      <td>3.5</td>\n",
       "      <td>30</td>\n",
       "    </tr>\n",
       "    <tr>\n",
       "      <th>5</th>\n",
       "      <td>1.5</td>\n",
       "      <td>20</td>\n",
       "    </tr>\n",
       "    <tr>\n",
       "      <th>6</th>\n",
       "      <td>9.2</td>\n",
       "      <td>88</td>\n",
       "    </tr>\n",
       "    <tr>\n",
       "      <th>7</th>\n",
       "      <td>5.5</td>\n",
       "      <td>60</td>\n",
       "    </tr>\n",
       "    <tr>\n",
       "      <th>8</th>\n",
       "      <td>8.3</td>\n",
       "      <td>81</td>\n",
       "    </tr>\n",
       "    <tr>\n",
       "      <th>9</th>\n",
       "      <td>2.7</td>\n",
       "      <td>25</td>\n",
       "    </tr>\n",
       "    <tr>\n",
       "      <th>10</th>\n",
       "      <td>7.7</td>\n",
       "      <td>85</td>\n",
       "    </tr>\n",
       "    <tr>\n",
       "      <th>11</th>\n",
       "      <td>5.9</td>\n",
       "      <td>62</td>\n",
       "    </tr>\n",
       "    <tr>\n",
       "      <th>12</th>\n",
       "      <td>4.5</td>\n",
       "      <td>41</td>\n",
       "    </tr>\n",
       "    <tr>\n",
       "      <th>13</th>\n",
       "      <td>3.3</td>\n",
       "      <td>42</td>\n",
       "    </tr>\n",
       "    <tr>\n",
       "      <th>14</th>\n",
       "      <td>1.1</td>\n",
       "      <td>17</td>\n",
       "    </tr>\n",
       "    <tr>\n",
       "      <th>15</th>\n",
       "      <td>8.9</td>\n",
       "      <td>95</td>\n",
       "    </tr>\n",
       "    <tr>\n",
       "      <th>16</th>\n",
       "      <td>2.5</td>\n",
       "      <td>30</td>\n",
       "    </tr>\n",
       "    <tr>\n",
       "      <th>17</th>\n",
       "      <td>1.9</td>\n",
       "      <td>24</td>\n",
       "    </tr>\n",
       "    <tr>\n",
       "      <th>18</th>\n",
       "      <td>6.1</td>\n",
       "      <td>67</td>\n",
       "    </tr>\n",
       "    <tr>\n",
       "      <th>19</th>\n",
       "      <td>7.4</td>\n",
       "      <td>69</td>\n",
       "    </tr>\n",
       "    <tr>\n",
       "      <th>20</th>\n",
       "      <td>2.7</td>\n",
       "      <td>30</td>\n",
       "    </tr>\n",
       "    <tr>\n",
       "      <th>21</th>\n",
       "      <td>4.8</td>\n",
       "      <td>54</td>\n",
       "    </tr>\n",
       "    <tr>\n",
       "      <th>22</th>\n",
       "      <td>3.8</td>\n",
       "      <td>35</td>\n",
       "    </tr>\n",
       "    <tr>\n",
       "      <th>23</th>\n",
       "      <td>6.9</td>\n",
       "      <td>76</td>\n",
       "    </tr>\n",
       "    <tr>\n",
       "      <th>24</th>\n",
       "      <td>7.8</td>\n",
       "      <td>86</td>\n",
       "    </tr>\n",
       "  </tbody>\n",
       "</table>\n",
       "</div>"
      ],
      "text/plain": [
       "    Hours  Scores\n",
       "0     2.5      21\n",
       "1     5.1      47\n",
       "2     3.2      27\n",
       "3     8.5      75\n",
       "4     3.5      30\n",
       "5     1.5      20\n",
       "6     9.2      88\n",
       "7     5.5      60\n",
       "8     8.3      81\n",
       "9     2.7      25\n",
       "10    7.7      85\n",
       "11    5.9      62\n",
       "12    4.5      41\n",
       "13    3.3      42\n",
       "14    1.1      17\n",
       "15    8.9      95\n",
       "16    2.5      30\n",
       "17    1.9      24\n",
       "18    6.1      67\n",
       "19    7.4      69\n",
       "20    2.7      30\n",
       "21    4.8      54\n",
       "22    3.8      35\n",
       "23    6.9      76\n",
       "24    7.8      86"
      ]
     },
     "execution_count": 2,
     "metadata": {},
     "output_type": "execute_result"
    }
   ],
   "source": [
    "data = pd.read_csv('student_scores.csv')\n",
    "data"
   ]
  },
  {
   "cell_type": "markdown",
   "metadata": {},
   "source": [
    "## Data Exploration"
   ]
  },
  {
   "cell_type": "code",
   "execution_count": 3,
   "metadata": {},
   "outputs": [
    {
     "data": {
      "text/plain": [
       "(25, 2)"
      ]
     },
     "execution_count": 3,
     "metadata": {},
     "output_type": "execute_result"
    }
   ],
   "source": [
    "# Structure of Data\n",
    "data.shape"
   ]
  },
  {
   "cell_type": "code",
   "execution_count": 4,
   "metadata": {
    "execution": {
     "iopub.execute_input": "2021-06-06T13:14:03.081980Z",
     "iopub.status.busy": "2021-06-06T13:14:03.081225Z",
     "iopub.status.idle": "2021-06-06T13:14:03.103367Z",
     "shell.execute_reply": "2021-06-06T13:14:03.103948Z",
     "shell.execute_reply.started": "2021-06-06T13:12:52.549722Z"
    },
    "papermill": {
     "duration": 0.044714,
     "end_time": "2021-06-06T13:14:03.104172",
     "exception": false,
     "start_time": "2021-06-06T13:14:03.059458",
     "status": "completed"
    },
    "tags": []
   },
   "outputs": [
    {
     "data": {
      "text/html": [
       "<div>\n",
       "<style scoped>\n",
       "    .dataframe tbody tr th:only-of-type {\n",
       "        vertical-align: middle;\n",
       "    }\n",
       "\n",
       "    .dataframe tbody tr th {\n",
       "        vertical-align: top;\n",
       "    }\n",
       "\n",
       "    .dataframe thead th {\n",
       "        text-align: right;\n",
       "    }\n",
       "</style>\n",
       "<table border=\"1\" class=\"dataframe\">\n",
       "  <thead>\n",
       "    <tr style=\"text-align: right;\">\n",
       "      <th></th>\n",
       "      <th>Hours</th>\n",
       "      <th>Scores</th>\n",
       "    </tr>\n",
       "  </thead>\n",
       "  <tbody>\n",
       "    <tr>\n",
       "      <th>count</th>\n",
       "      <td>25.000000</td>\n",
       "      <td>25.000000</td>\n",
       "    </tr>\n",
       "    <tr>\n",
       "      <th>mean</th>\n",
       "      <td>5.012000</td>\n",
       "      <td>51.480000</td>\n",
       "    </tr>\n",
       "    <tr>\n",
       "      <th>std</th>\n",
       "      <td>2.525094</td>\n",
       "      <td>25.286887</td>\n",
       "    </tr>\n",
       "    <tr>\n",
       "      <th>min</th>\n",
       "      <td>1.100000</td>\n",
       "      <td>17.000000</td>\n",
       "    </tr>\n",
       "    <tr>\n",
       "      <th>25%</th>\n",
       "      <td>2.700000</td>\n",
       "      <td>30.000000</td>\n",
       "    </tr>\n",
       "    <tr>\n",
       "      <th>50%</th>\n",
       "      <td>4.800000</td>\n",
       "      <td>47.000000</td>\n",
       "    </tr>\n",
       "    <tr>\n",
       "      <th>75%</th>\n",
       "      <td>7.400000</td>\n",
       "      <td>75.000000</td>\n",
       "    </tr>\n",
       "    <tr>\n",
       "      <th>max</th>\n",
       "      <td>9.200000</td>\n",
       "      <td>95.000000</td>\n",
       "    </tr>\n",
       "  </tbody>\n",
       "</table>\n",
       "</div>"
      ],
      "text/plain": [
       "           Hours     Scores\n",
       "count  25.000000  25.000000\n",
       "mean    5.012000  51.480000\n",
       "std     2.525094  25.286887\n",
       "min     1.100000  17.000000\n",
       "25%     2.700000  30.000000\n",
       "50%     4.800000  47.000000\n",
       "75%     7.400000  75.000000\n",
       "max     9.200000  95.000000"
      ]
     },
     "execution_count": 4,
     "metadata": {},
     "output_type": "execute_result"
    }
   ],
   "source": [
    "# Detailed View of Data\n",
    "data.describe()"
   ]
  },
  {
   "cell_type": "code",
   "execution_count": 5,
   "metadata": {
    "execution": {
     "iopub.execute_input": "2021-06-06T13:14:03.147199Z",
     "iopub.status.busy": "2021-06-06T13:14:03.146450Z",
     "iopub.status.idle": "2021-06-06T13:14:03.158550Z",
     "shell.execute_reply": "2021-06-06T13:14:03.157930Z",
     "shell.execute_reply.started": "2021-06-06T13:12:52.573721Z"
    },
    "papermill": {
     "duration": 0.034569,
     "end_time": "2021-06-06T13:14:03.158711",
     "exception": false,
     "start_time": "2021-06-06T13:14:03.124142",
     "status": "completed"
    },
    "tags": []
   },
   "outputs": [
    {
     "data": {
      "text/html": [
       "<div>\n",
       "<style scoped>\n",
       "    .dataframe tbody tr th:only-of-type {\n",
       "        vertical-align: middle;\n",
       "    }\n",
       "\n",
       "    .dataframe tbody tr th {\n",
       "        vertical-align: top;\n",
       "    }\n",
       "\n",
       "    .dataframe thead th {\n",
       "        text-align: right;\n",
       "    }\n",
       "</style>\n",
       "<table border=\"1\" class=\"dataframe\">\n",
       "  <thead>\n",
       "    <tr style=\"text-align: right;\">\n",
       "      <th></th>\n",
       "      <th>Hours</th>\n",
       "      <th>Scores</th>\n",
       "    </tr>\n",
       "  </thead>\n",
       "  <tbody>\n",
       "    <tr>\n",
       "      <th>Hours</th>\n",
       "      <td>1.000000</td>\n",
       "      <td>0.976191</td>\n",
       "    </tr>\n",
       "    <tr>\n",
       "      <th>Scores</th>\n",
       "      <td>0.976191</td>\n",
       "      <td>1.000000</td>\n",
       "    </tr>\n",
       "  </tbody>\n",
       "</table>\n",
       "</div>"
      ],
      "text/plain": [
       "           Hours    Scores\n",
       "Hours   1.000000  0.976191\n",
       "Scores  0.976191  1.000000"
      ]
     },
     "execution_count": 5,
     "metadata": {},
     "output_type": "execute_result"
    }
   ],
   "source": [
    "# Correlation between Variables\n",
    "data.corr()"
   ]
  },
  {
   "cell_type": "markdown",
   "metadata": {
    "papermill": {
     "duration": 0.01942,
     "end_time": "2021-06-06T13:14:03.198032",
     "exception": false,
     "start_time": "2021-06-06T13:14:03.178612",
     "status": "completed"
    },
    "tags": []
   },
   "source": [
    "## Plotting Distribution of Data"
   ]
  },
  {
   "cell_type": "code",
   "execution_count": 6,
   "metadata": {
    "execution": {
     "iopub.execute_input": "2021-06-06T13:14:03.628211Z",
     "iopub.status.busy": "2021-06-06T13:14:03.627571Z",
     "iopub.status.idle": "2021-06-06T13:14:03.798904Z",
     "shell.execute_reply": "2021-06-06T13:14:03.799501Z",
     "shell.execute_reply.started": "2021-06-06T13:12:52.913467Z"
    },
    "papermill": {
     "duration": 0.196113,
     "end_time": "2021-06-06T13:14:03.799716",
     "exception": false,
     "start_time": "2021-06-06T13:14:03.603603",
     "status": "completed"
    },
    "tags": []
   },
   "outputs": [
    {
     "data": {
      "image/png": "[encoded data removed]",
      "text/plain": [
       "<Figure size 720x360 with 1 Axes>"
      ]
     },
     "metadata": {},
     "output_type": "display_data"
    }
   ],
   "source": [
    "plt.figure(figsize=(10,5))\n",
    "plt.title('Hours Studied vs Score Secured', fontsize=15)\n",
    "plt.xlabel('Hours', fontsize=13)\n",
    "plt.ylabel('Score', fontsize=13)\n",
    "plt.scatter(data.Hours, data.Scores, s=75, color='black')\n",
    "plt.show()"
   ]
  },
  {
   "cell_type": "markdown",
   "metadata": {
    "papermill": {
     "duration": 0.021555,
     "end_time": "2021-06-06T13:14:03.844033",
     "exception": false,
     "start_time": "2021-06-06T13:14:03.822478",
     "status": "completed"
    },
    "tags": []
   },
   "source": [
    "# SIMPLE LINEAR REGRESSION "
   ]
  },
  {
   "cell_type": "code",
   "execution_count": 7,
   "metadata": {
    "execution": {
     "iopub.execute_input": "2021-06-06T13:14:03.891949Z",
     "iopub.status.busy": "2021-06-06T13:14:03.891167Z",
     "iopub.status.idle": "2021-06-06T13:14:05.167921Z",
     "shell.execute_reply": "2021-06-06T13:14:05.168517Z",
     "shell.execute_reply.started": "2021-06-06T13:12:53.080944Z"
    },
    "papermill": {
     "duration": 1.302866,
     "end_time": "2021-06-06T13:14:05.168757",
     "exception": false,
     "start_time": "2021-06-06T13:14:03.865891",
     "status": "completed"
    },
    "tags": []
   },
   "outputs": [],
   "source": [
    "# Importing Libraries\n",
    "from sklearn.model_selection import train_test_split\n",
    "from sklearn.linear_model import LinearRegression\n",
    "from sklearn import metrics"
   ]
  },
  {
   "cell_type": "markdown",
   "metadata": {
    "papermill": {
     "duration": 0.021108,
     "end_time": "2021-06-06T13:14:05.211582",
     "exception": false,
     "start_time": "2021-06-06T13:14:05.190474",
     "status": "completed"
    },
    "tags": []
   },
   "source": [
    "## Creating Training & Testing Set"
   ]
  },
  {
   "cell_type": "code",
   "execution_count": 8,
   "metadata": {
    "execution": {
     "iopub.execute_input": "2021-06-06T13:14:05.262087Z",
     "iopub.status.busy": "2021-06-06T13:14:05.260956Z",
     "iopub.status.idle": "2021-06-06T13:14:05.270704Z",
     "shell.execute_reply": "2021-06-06T13:14:05.271189Z",
     "shell.execute_reply.started": "2021-06-06T13:12:54.085813Z"
    },
    "papermill": {
     "duration": 0.038481,
     "end_time": "2021-06-06T13:14:05.271426",
     "exception": false,
     "start_time": "2021-06-06T13:14:05.232945",
     "status": "completed"
    },
    "tags": []
   },
   "outputs": [
    {
     "name": "stdout",
     "output_type": "stream",
     "text": [
      "X: (25, 1)\n",
      "y: (25,)\n"
     ]
    }
   ],
   "source": [
    "X = data.iloc[:,:-1].values\n",
    "y = data.iloc[:,-1].values\n",
    "print(f'X: {X.shape}')\n",
    "print(f'y: {y.shape}')"
   ]
  },
  {
   "cell_type": "code",
   "execution_count": 9,
   "metadata": {},
   "outputs": [],
   "source": [
    "# Spliting dataset into training set and testing set\n",
    "X_train, X_test, y_train, y_test = train_test_split(X, y, test_size=0.2, random_state=0)"
   ]
  },
  {
   "cell_type": "code",
   "execution_count": 10,
   "metadata": {
    "execution": {
     "iopub.execute_input": "2021-06-06T13:14:05.335859Z",
     "iopub.status.busy": "2021-06-06T13:14:05.335006Z",
     "iopub.status.idle": "2021-06-06T13:14:05.344187Z",
     "shell.execute_reply": "2021-06-06T13:14:05.343208Z",
     "shell.execute_reply.started": "2021-06-06T13:12:54.093974Z"
    },
    "papermill": {
     "duration": 0.045451,
     "end_time": "2021-06-06T13:14:05.344386",
     "exception": false,
     "start_time": "2021-06-06T13:14:05.298935",
     "status": "completed"
    },
    "tags": []
   },
   "outputs": [
    {
     "name": "stdout",
     "output_type": "stream",
     "text": [
      "X_train: (20, 1)\n",
      "X_test: (5, 1)\n",
      "y_train: (20,)\n",
      "y_test: (5,)\n"
     ]
    }
   ],
   "source": [
    "# Structure of each set in Train & Test data\n",
    "col = ['X_train', 'X_test', 'y_train', 'y_test']\n",
    "tset = [X_train, X_test, y_train, y_test]\n",
    "for i in range(len(col)):\n",
    "    print(f'{col[i]}: {tset[i].shape}')"
   ]
  },
  {
   "cell_type": "markdown",
   "metadata": {},
   "source": [
    "### Plotting Distribution of Training & Testing Dataset"
   ]
  },
  {
   "cell_type": "code",
   "execution_count": 11,
   "metadata": {
    "execution": {
     "iopub.execute_input": "2021-06-06T13:14:05.441542Z",
     "iopub.status.busy": "2021-06-06T13:14:05.440828Z",
     "iopub.status.idle": "2021-06-06T13:14:05.713280Z",
     "shell.execute_reply": "2021-06-06T13:14:05.713818Z",
     "shell.execute_reply.started": "2021-06-06T13:12:54.104823Z"
    },
    "papermill": {
     "duration": 0.298119,
     "end_time": "2021-06-06T13:14:05.714023",
     "exception": false,
     "start_time": "2021-06-06T13:14:05.415904",
     "status": "completed"
    },
    "tags": []
   },
   "outputs": [
    {
     "data": {
      "image/png": "[encoded data removed]",
      "text/plain": [
       "<Figure size 1080x360 with 2 Axes>"
      ]
     },
     "metadata": {},
     "output_type": "display_data"
    }
   ],
   "source": [
    "fig, ax = plt.subplots(1, 2, figsize=(15, 5))\n",
    "ax[0].set_title('Training Set', fontsize=15)\n",
    "ax[0].scatter(X_train, y_train, s=75, color='black')\n",
    "ax[0].set_xlabel('Hours')\n",
    "ax[0].set_ylabel('Score')\n",
    "ax[1].set_title('Testing Set', fontsize=15)\n",
    "ax[1].scatter(X_test, y_test, s=75, color='black')\n",
    "ax[1].set_xlabel('Hours')\n",
    "ax[1].set_ylabel('score')\n",
    "plt.show()"
   ]
  },
  {
   "cell_type": "markdown",
   "metadata": {
    "papermill": {
     "duration": 0.022635,
     "end_time": "2021-06-06T13:14:05.759693",
     "exception": false,
     "start_time": "2021-06-06T13:14:05.737058",
     "status": "completed"
    },
    "tags": []
   },
   "source": [
    "## Modeling & Fitting"
   ]
  },
  {
   "cell_type": "code",
   "execution_count": 12,
   "metadata": {
    "execution": {
     "iopub.execute_input": "2021-06-06T13:14:05.809575Z",
     "iopub.status.busy": "2021-06-06T13:14:05.808888Z",
     "iopub.status.idle": "2021-06-06T13:14:05.829019Z",
     "shell.execute_reply": "2021-06-06T13:14:05.828253Z",
     "shell.execute_reply.started": "2021-06-06T13:12:54.382382Z"
    },
    "papermill": {
     "duration": 0.046739,
     "end_time": "2021-06-06T13:14:05.829199",
     "exception": false,
     "start_time": "2021-06-06T13:14:05.782460",
     "status": "completed"
    },
    "tags": []
   },
   "outputs": [
    {
     "name": "stdout",
     "output_type": "stream",
     "text": [
      "Coefficient: [9.91065648]\n",
      "Intercept: 2.018160041434683\n"
     ]
    }
   ],
   "source": [
    "regr = LinearRegression()\n",
    "regr.fit(X_train, y_train)\n",
    "print(f'Coefficient: {regr.coef_}')\n",
    "print(f'Intercept: {regr.intercept_}')"
   ]
  },
  {
   "cell_type": "markdown",
   "metadata": {
    "papermill": {
     "duration": 0.022602,
     "end_time": "2021-06-06T13:14:05.875103",
     "exception": false,
     "start_time": "2021-06-06T13:14:05.852501",
     "status": "completed"
    },
    "tags": []
   },
   "source": [
    "### Plotting Regression Line"
   ]
  },
  {
   "cell_type": "code",
   "execution_count": 13,
   "metadata": {
    "execution": {
     "iopub.execute_input": "2021-06-06T13:14:05.954276Z",
     "iopub.status.busy": "2021-06-06T13:14:05.950798Z",
     "iopub.status.idle": "2021-06-06T13:14:06.213378Z",
     "shell.execute_reply": "2021-06-06T13:14:06.212718Z",
     "shell.execute_reply.started": "2021-06-06T13:12:54.401335Z"
    },
    "papermill": {
     "duration": 0.31536,
     "end_time": "2021-06-06T13:14:06.213529",
     "exception": false,
     "start_time": "2021-06-06T13:14:05.898169",
     "status": "completed"
    },
    "tags": []
   },
   "outputs": [
    {
     "data": {
      "image/png": "[encoded data removed]",
      "text/plain": [
       "<Figure size 1080x360 with 2 Axes>"
      ]
     },
     "metadata": {},
     "output_type": "display_data"
    }
   ],
   "source": [
    "fig, ax = plt.subplots(1, 2, figsize=(15, 5))\n",
    "ax[0].set_title('Training Set', fontsize=15)\n",
    "ax[0].scatter(X_train, y_train, s=75, color='black')\n",
    "ax[0].plot(X_train, regr.coef_*X_train + regr.intercept_, '-r')\n",
    "ax[0].set_xlabel('Hours')\n",
    "ax[0].set_ylabel('Score')\n",
    "ax[1].set_title('Testing Set', fontsize=15)\n",
    "ax[1].scatter(X_test, y_test, s=75, color='black')\n",
    "ax[1].plot(X_test, regr.coef_*X_test + regr.intercept_, '-r')\n",
    "ax[1].set_xlabel('Hours')\n",
    "ax[1].set_ylabel('Score')\n",
    "plt.show()"
   ]
  },
  {
   "cell_type": "markdown",
   "metadata": {
    "papermill": {
     "duration": 0.024178,
     "end_time": "2021-06-06T13:14:06.262256",
     "exception": false,
     "start_time": "2021-06-06T13:14:06.238078",
     "status": "completed"
    },
    "tags": []
   },
   "source": [
    "## Making Predictions"
   ]
  },
  {
   "cell_type": "code",
   "execution_count": 14,
   "metadata": {
    "execution": {
     "iopub.execute_input": "2021-06-06T13:14:06.326598Z",
     "iopub.status.busy": "2021-06-06T13:14:06.325816Z",
     "iopub.status.idle": "2021-06-06T13:14:06.330822Z",
     "shell.execute_reply": "2021-06-06T13:14:06.330218Z",
     "shell.execute_reply.started": "2021-06-06T13:12:54.673426Z"
    },
    "papermill": {
     "duration": 0.043955,
     "end_time": "2021-06-06T13:14:06.330981",
     "exception": false,
     "start_time": "2021-06-06T13:14:06.287026",
     "status": "completed"
    },
    "tags": []
   },
   "outputs": [
    {
     "data": {
      "text/html": [
       "<div>\n",
       "<style scoped>\n",
       "    .dataframe tbody tr th:only-of-type {\n",
       "        vertical-align: middle;\n",
       "    }\n",
       "\n",
       "    .dataframe tbody tr th {\n",
       "        vertical-align: top;\n",
       "    }\n",
       "\n",
       "    .dataframe thead th {\n",
       "        text-align: right;\n",
       "    }\n",
       "</style>\n",
       "<table border=\"1\" class=\"dataframe\">\n",
       "  <thead>\n",
       "    <tr style=\"text-align: right;\">\n",
       "      <th></th>\n",
       "      <th>Hours</th>\n",
       "      <th>Actual Score</th>\n",
       "      <th>Predicted Score</th>\n",
       "    </tr>\n",
       "  </thead>\n",
       "  <tbody>\n",
       "    <tr>\n",
       "      <th>0</th>\n",
       "      <td>1.5</td>\n",
       "      <td>20</td>\n",
       "      <td>16</td>\n",
       "    </tr>\n",
       "    <tr>\n",
       "      <th>1</th>\n",
       "      <td>3.2</td>\n",
       "      <td>27</td>\n",
       "      <td>33</td>\n",
       "    </tr>\n",
       "    <tr>\n",
       "      <th>2</th>\n",
       "      <td>7.4</td>\n",
       "      <td>69</td>\n",
       "      <td>75</td>\n",
       "    </tr>\n",
       "    <tr>\n",
       "      <th>3</th>\n",
       "      <td>2.5</td>\n",
       "      <td>30</td>\n",
       "      <td>26</td>\n",
       "    </tr>\n",
       "    <tr>\n",
       "      <th>4</th>\n",
       "      <td>5.9</td>\n",
       "      <td>62</td>\n",
       "      <td>60</td>\n",
       "    </tr>\n",
       "  </tbody>\n",
       "</table>\n",
       "</div>"
      ],
      "text/plain": [
       "   Hours  Actual Score  Predicted Score\n",
       "0    1.5            20               16\n",
       "1    3.2            27               33\n",
       "2    7.4            69               75\n",
       "3    2.5            30               26\n",
       "4    5.9            62               60"
      ]
     },
     "execution_count": 14,
     "metadata": {},
     "output_type": "execute_result"
    }
   ],
   "source": [
    "y_pred = regr.predict(X_test).astype(int)\n",
    "pd.DataFrame({'Hours': X_test[:,0], 'Actual Score': y_test, 'Predicted Score': y_pred})"
   ]
  },
  {
   "cell_type": "markdown",
   "metadata": {
    "papermill": {
     "duration": 0.024362,
     "end_time": "2021-06-06T13:14:06.380426",
     "exception": false,
     "start_time": "2021-06-06T13:14:06.356064",
     "status": "completed"
    },
    "tags": []
   },
   "source": [
    "## Evaluation"
   ]
  },
  {
   "cell_type": "code",
   "execution_count": 15,
   "metadata": {
    "execution": {
     "iopub.execute_input": "2021-06-06T13:14:06.436817Z",
     "iopub.status.busy": "2021-06-06T13:14:06.436112Z",
     "iopub.status.idle": "2021-06-06T13:14:06.439884Z",
     "shell.execute_reply": "2021-06-06T13:14:06.440391Z",
     "shell.execute_reply.started": "2021-06-06T13:12:54.687547Z"
    },
    "papermill": {
     "duration": 0.035477,
     "end_time": "2021-06-06T13:14:06.440582",
     "exception": false,
     "start_time": "2021-06-06T13:14:06.405105",
     "status": "completed"
    },
    "tags": []
   },
   "outputs": [
    {
     "name": "stdout",
     "output_type": "stream",
     "text": [
      "Mean Absolute Error(MAE): 4.4\n",
      "Residual Sum of Squares(MSE): 21.6\n",
      "R2-Score: 0.9454875832828589\n"
     ]
    }
   ],
   "source": [
    "print(f'Mean Absolute Error(MAE): {metrics.mean_absolute_error(y_test, y_pred)}')\n",
    "print(f'Residual Sum of Squares(MSE): {metrics.mean_squared_error(y_test, y_pred)}')\n",
    "print(f'R2-Score: {metrics.r2_score(y_test, y_pred)}')"
   ]
  },
  {
   "cell_type": "markdown",
   "metadata": {},
   "source": [
    "### * What will be predicted score if a student studies for 9.25 hrs/ day? "
   ]
  },
  {
   "cell_type": "code",
   "execution_count": 16,
   "metadata": {},
   "outputs": [
    {
     "data": {
      "text/html": [
       "<div>\n",
       "<style scoped>\n",
       "    .dataframe tbody tr th:only-of-type {\n",
       "        vertical-align: middle;\n",
       "    }\n",
       "\n",
       "    .dataframe tbody tr th {\n",
       "        vertical-align: top;\n",
       "    }\n",
       "\n",
       "    .dataframe thead th {\n",
       "        text-align: right;\n",
       "    }\n",
       "</style>\n",
       "<table border=\"1\" class=\"dataframe\">\n",
       "  <thead>\n",
       "    <tr style=\"text-align: right;\">\n",
       "      <th></th>\n",
       "      <th>Hours</th>\n",
       "      <th>Predicted Score</th>\n",
       "    </tr>\n",
       "  </thead>\n",
       "  <tbody>\n",
       "    <tr>\n",
       "      <th>0</th>\n",
       "      <td>9.25</td>\n",
       "      <td>93</td>\n",
       "    </tr>\n",
       "  </tbody>\n",
       "</table>\n",
       "</div>"
      ],
      "text/plain": [
       "   Hours  Predicted Score\n",
       "0   9.25               93"
      ]
     },
     "execution_count": 16,
     "metadata": {},
     "output_type": "execute_result"
    }
   ],
   "source": [
    "hours = 9.25\n",
    "score = regr.predict([[hours]]).astype(int)\n",
    "pd.DataFrame({'Hours': hours, 'Predicted Score': score})"
   ]
  },
  {
   "cell_type": "markdown",
   "metadata": {},
   "source": [
    "#### If a student studies for 9.25 hrs/day, the Score will be *93*  as per this model."
   ]
  },
  {
   "cell_type": "markdown",
   "metadata": {
    "papermill": {
     "duration": 0.024376,
     "end_time": "2021-06-06T13:14:06.489938",
     "exception": false,
     "start_time": "2021-06-06T13:14:06.465562",
     "status": "completed"
    },
    "tags": []
   },
   "source": [
    "## Thank You!"
   ]
  }
 ],
 "metadata": {
  "kernelspec": {
   "display_name": "Python 3",
   "language": "python",
   "name": "python3"
  },
  "language_info": {
   "codemirror_mode": {
    "name": "ipython",
    "version": 3
   },
   "file_extension": ".py",
   "mimetype": "text/x-python",
   "name": "python",
   "nbconvert_exporter": "python",
   "pygments_lexer": "ipython3",
   "version": "3.8.5"
  },
  "papermill": {
   "default_parameters": {},
   "duration": 11.049457,
   "end_time": "2021-06-06T13:14:07.426911",
   "environment_variables": {},
   "exception": null,
   "input_path": "__notebook__.ipynb",
   "output_path": "__notebook__.ipynb",
   "parameters": {},
   "start_time": "2021-06-06T13:13:56.377454",
   "version": "2.3.2"
  }
 },
 "nbformat": 4,
 "nbformat_minor": 5
}
